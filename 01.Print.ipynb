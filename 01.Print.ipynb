{
 "cells": [
  {
   "cell_type": "code",
   "execution_count": 1,
   "id": "2c2156f3-3794-4658-8ab0-83f4319a4e78",
   "metadata": {},
   "outputs": [
    {
     "name": "stdout",
     "output_type": "stream",
     "text": [
      "hello world \n"
     ]
    }
   ],
   "source": [
    "print (\"hello world \")"
   ]
  },
  {
   "cell_type": "code",
   "execution_count": 3,
   "id": "6515a009-f10b-42dc-b79c-73025a705c14",
   "metadata": {},
   "outputs": [
    {
     "name": "stdout",
     "output_type": "stream",
     "text": [
      "welocome  to hope AI\n"
     ]
    }
   ],
   "source": [
    "print ('welocome  to hope AI')"
   ]
  },
  {
   "cell_type": "code",
   "execution_count": 5,
   "id": "3a0d2240-e790-43a1-99e2-fe0c63366d75",
   "metadata": {},
   "outputs": [
    {
     "name": "stdout",
     "output_type": "stream",
     "text": [
      "123456\n"
     ]
    }
   ],
   "source": [
    "print (\"123456\")"
   ]
  },
  {
   "cell_type": "code",
   "execution_count": 7,
   "id": "33444062-97a7-4c21-a811-23bb4f0f1fd8",
   "metadata": {},
   "outputs": [
    {
     "name": "stdout",
     "output_type": "stream",
     "text": [
      "1133455rtyyuiiooppooo\n"
     ]
    }
   ],
   "source": [
    "print ('1133455rtyyuiiooppooo')"
   ]
  },
  {
   "cell_type": "code",
   "execution_count": 18,
   "id": "612ac004-a4b5-48ca-83d7-71196d9e864e",
   "metadata": {},
   "outputs": [
    {
     "name": "stdout",
     "output_type": "stream",
     "text": [
      "23455jjjjjjjj\n"
     ]
    }
   ],
   "source": [
    "print (\"23455jjjjjjjj\")"
   ]
  },
  {
   "cell_type": "code",
   "execution_count": null,
   "id": "72bf191e-9808-4324-824d-0af2c50c822f",
   "metadata": {},
   "outputs": [],
   "source": []
  }
 ],
 "metadata": {
  "kernelspec": {
   "display_name": "Python [conda env:base] *",
   "language": "python",
   "name": "conda-base-py"
  },
  "language_info": {
   "codemirror_mode": {
    "name": "ipython",
    "version": 3
   },
   "file_extension": ".py",
   "mimetype": "text/x-python",
   "name": "python",
   "nbconvert_exporter": "python",
   "pygments_lexer": "ipython3",
   "version": "3.12.7"
  }
 },
 "nbformat": 4,
 "nbformat_minor": 5
}
